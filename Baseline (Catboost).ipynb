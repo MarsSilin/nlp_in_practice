{
 "cells": [
  {
   "cell_type": "markdown",
   "id": "815cb1b6",
   "metadata": {},
   "source": [
    "# Описание задачи"
   ]
  },
  {
   "cell_type": "markdown",
   "id": "9786a6da",
   "metadata": {},
   "source": [
    "Ссылка на данные: https://ods.ai/competitions/nlp-receipts/data\n",
    "\n",
    "Данные чеков ОФД содержат детальную информацию о тратах клиентов. Они помогают улучшать качество моделей кредитного скоринга и склонности к банковским продуктам, а также улучшать пользовательский опыт за счет структуризации трат клиентов в мобильном приложении. Однако работа с этим источником затрудняется его неструктурированностью: вся информация о купленном товаре лежит в одной строке произвольного формата.\n",
    "\n",
    "В предположении что каждая чековая позиция описывает какой-либо товар, наименование этого товара, а также его бренд, являются главной информацией, которую можно извлечь из чека. По итогу задача структуризации этих данных ограничивается выделением и нормализацией брендов и товаров.\n",
    "\n",
    "Участникам соревнования предоставляются два датасета с чековыми позициями, размеченный и неразмеченный:\n",
    "\n",
    "В размеченном датасете для каждой чековой позиции указаны нормализованные бренды и товары входящие в нее в исходном виде.\n",
    "В неразмеченном датасете даны только сами чековые позиции."
   ]
  },
  {
   "cell_type": "markdown",
   "id": "b6eb3416",
   "metadata": {},
   "source": [
    "# Import"
   ]
  },
  {
   "cell_type": "code",
   "execution_count": 16,
   "id": "9c1b094e",
   "metadata": {},
   "outputs": [],
   "source": [
    "import pandas as pd\n",
    "import numpy as np\n",
    "import time\n",
    "\n",
    "from sklearn.model_selection import train_test_split\n",
    "\n",
    "from catboost import CatBoostClassifier\n",
    "from catboost import Pool\n",
    "\n",
    "import warnings\n",
    "warnings.filterwarnings('ignore')\n",
    "\n",
    "RAND = 10"
   ]
  },
  {
   "cell_type": "code",
   "execution_count": 2,
   "id": "02ebf150",
   "metadata": {},
   "outputs": [],
   "source": [
    "train_supervised_path = 'data/train_supervised_dataset.csv'\n",
    "train_unsupervised_path = 'data/train_unsupervised_dataset.csv'\n",
    "test_path = 'data/test_dataset.csv'"
   ]
  },
  {
   "cell_type": "code",
   "execution_count": 3,
   "id": "31ce3e14",
   "metadata": {},
   "outputs": [],
   "source": [
    "df_sup = pd.read_csv(train_supervised_path)"
   ]
  },
  {
   "cell_type": "code",
   "execution_count": 4,
   "id": "ee6325c9",
   "metadata": {},
   "outputs": [],
   "source": [
    "df_unsup = pd.read_csv(train_unsupervised_path)"
   ]
  },
  {
   "cell_type": "code",
   "execution_count": 5,
   "id": "692b8962",
   "metadata": {},
   "outputs": [],
   "source": [
    "df_test = pd.read_csv(test_path)"
   ]
  },
  {
   "cell_type": "code",
   "execution_count": 6,
   "id": "196df6f2",
   "metadata": {},
   "outputs": [
    {
     "data": {
      "text/html": [
       "<div>\n",
       "<style scoped>\n",
       "    .dataframe tbody tr th:only-of-type {\n",
       "        vertical-align: middle;\n",
       "    }\n",
       "\n",
       "    .dataframe tbody tr th {\n",
       "        vertical-align: top;\n",
       "    }\n",
       "\n",
       "    .dataframe thead th {\n",
       "        text-align: right;\n",
       "    }\n",
       "</style>\n",
       "<table border=\"1\" class=\"dataframe\">\n",
       "  <thead>\n",
       "    <tr style=\"text-align: right;\">\n",
       "      <th></th>\n",
       "      <th>id</th>\n",
       "      <th>name</th>\n",
       "      <th>good</th>\n",
       "      <th>brand</th>\n",
       "    </tr>\n",
       "  </thead>\n",
       "  <tbody>\n",
       "    <tr>\n",
       "      <th>0</th>\n",
       "      <td>0</td>\n",
       "      <td>Petmax Бантик леопард с красн розой 2шт</td>\n",
       "      <td>бантик</td>\n",
       "      <td>petmax</td>\n",
       "    </tr>\n",
       "    <tr>\n",
       "      <th>1</th>\n",
       "      <td>1</td>\n",
       "      <td>87191 Бусы для елки шарики_87191</td>\n",
       "      <td>бусы</td>\n",
       "      <td>NaN</td>\n",
       "    </tr>\n",
       "    <tr>\n",
       "      <th>2</th>\n",
       "      <td>2</td>\n",
       "      <td>Футболка Piazza Italia WR011446881</td>\n",
       "      <td>футболка</td>\n",
       "      <td>piazza italia</td>\n",
       "    </tr>\n",
       "    <tr>\n",
       "      <th>3</th>\n",
       "      <td>3</td>\n",
       "      <td>7) YI572-03X-ONE ЗАКОЛКА ДЛЯ ВОЛОС ДЛЯ ДЕВОЧКИ</td>\n",
       "      <td>заколка</td>\n",
       "      <td>NaN</td>\n",
       "    </tr>\n",
       "    <tr>\n",
       "      <th>4</th>\n",
       "      <td>4</td>\n",
       "      <td>Одежда (вес) 1500</td>\n",
       "      <td>одежда</td>\n",
       "      <td>NaN</td>\n",
       "    </tr>\n",
       "  </tbody>\n",
       "</table>\n",
       "</div>"
      ],
      "text/plain": [
       "   id                                            name      good          brand\n",
       "0   0         Petmax Бантик леопард с красн розой 2шт    бантик         petmax\n",
       "1   1                87191 Бусы для елки шарики_87191      бусы            NaN\n",
       "2   2              Футболка Piazza Italia WR011446881  футболка  piazza italia\n",
       "3   3  7) YI572-03X-ONE ЗАКОЛКА ДЛЯ ВОЛОС ДЛЯ ДЕВОЧКИ   заколка            NaN\n",
       "4   4                               Одежда (вес) 1500    одежда            NaN"
      ]
     },
     "execution_count": 6,
     "metadata": {},
     "output_type": "execute_result"
    }
   ],
   "source": [
    "df_sup.head()"
   ]
  },
  {
   "cell_type": "code",
   "execution_count": 7,
   "id": "465ce368",
   "metadata": {},
   "outputs": [
    {
     "data": {
      "text/html": [
       "<div>\n",
       "<style scoped>\n",
       "    .dataframe tbody tr th:only-of-type {\n",
       "        vertical-align: middle;\n",
       "    }\n",
       "\n",
       "    .dataframe tbody tr th {\n",
       "        vertical-align: top;\n",
       "    }\n",
       "\n",
       "    .dataframe thead th {\n",
       "        text-align: right;\n",
       "    }\n",
       "</style>\n",
       "<table border=\"1\" class=\"dataframe\">\n",
       "  <thead>\n",
       "    <tr style=\"text-align: right;\">\n",
       "      <th></th>\n",
       "      <th>id</th>\n",
       "      <th>name</th>\n",
       "    </tr>\n",
       "  </thead>\n",
       "  <tbody>\n",
       "    <tr>\n",
       "      <th>0</th>\n",
       "      <td>0</td>\n",
       "      <td>Зубная щетка Орал Би Три эффект Деликатное отб...</td>\n",
       "    </tr>\n",
       "    <tr>\n",
       "      <th>1</th>\n",
       "      <td>1</td>\n",
       "      <td>салфетки VISTER влажные для ко</td>\n",
       "    </tr>\n",
       "    <tr>\n",
       "      <th>2</th>\n",
       "      <td>2</td>\n",
       "      <td>Платье женское DR8517K 7Л8999 Светло-серый 449...</td>\n",
       "    </tr>\n",
       "    <tr>\n",
       "      <th>3</th>\n",
       "      <td>3</td>\n",
       "      <td>ЛАКОМСТВО \"ДЕРЕВЕНСКИЕ ЛАКОМСТВА\" д/собак мини...</td>\n",
       "    </tr>\n",
       "    <tr>\n",
       "      <th>4</th>\n",
       "      <td>4</td>\n",
       "      <td>Суппорт гитарный Ergo Play Troster</td>\n",
       "    </tr>\n",
       "  </tbody>\n",
       "</table>\n",
       "</div>"
      ],
      "text/plain": [
       "   id                                               name\n",
       "0   0  Зубная щетка Орал Би Три эффект Деликатное отб...\n",
       "1   1                     салфетки VISTER влажные для ко\n",
       "2   2  Платье женское DR8517K 7Л8999 Светло-серый 449...\n",
       "3   3  ЛАКОМСТВО \"ДЕРЕВЕНСКИЕ ЛАКОМСТВА\" д/собак мини...\n",
       "4   4                 Суппорт гитарный Ergo Play Troster"
      ]
     },
     "execution_count": 7,
     "metadata": {},
     "output_type": "execute_result"
    }
   ],
   "source": [
    "df_unsup.head()"
   ]
  },
  {
   "cell_type": "code",
   "execution_count": 8,
   "id": "de8e24d5",
   "metadata": {},
   "outputs": [
    {
     "data": {
      "text/html": [
       "<div>\n",
       "<style scoped>\n",
       "    .dataframe tbody tr th:only-of-type {\n",
       "        vertical-align: middle;\n",
       "    }\n",
       "\n",
       "    .dataframe tbody tr th {\n",
       "        vertical-align: top;\n",
       "    }\n",
       "\n",
       "    .dataframe thead th {\n",
       "        text-align: right;\n",
       "    }\n",
       "</style>\n",
       "<table border=\"1\" class=\"dataframe\">\n",
       "  <thead>\n",
       "    <tr style=\"text-align: right;\">\n",
       "      <th></th>\n",
       "      <th>id</th>\n",
       "      <th>name</th>\n",
       "    </tr>\n",
       "  </thead>\n",
       "  <tbody>\n",
       "    <tr>\n",
       "      <th>0</th>\n",
       "      <td>0</td>\n",
       "      <td>469-210 ЕРМАК Клей универсальный, 15мл, блистер</td>\n",
       "    </tr>\n",
       "    <tr>\n",
       "      <th>1</th>\n",
       "      <td>1</td>\n",
       "      <td>Торт СЛАДУШКА Зимняя вишня 700г</td>\n",
       "    </tr>\n",
       "    <tr>\n",
       "      <th>2</th>\n",
       "      <td>2</td>\n",
       "      <td>Смеситель \"CALORIE\" 1023 А06 д/кухни</td>\n",
       "    </tr>\n",
       "    <tr>\n",
       "      <th>3</th>\n",
       "      <td>3</td>\n",
       "      <td>Лимон 50гр БАР</td>\n",
       "    </tr>\n",
       "    <tr>\n",
       "      <th>4</th>\n",
       "      <td>4</td>\n",
       "      <td>Коньяк САРАДЖИШВИЛИ 5 лет 0,5л Грузия</td>\n",
       "    </tr>\n",
       "  </tbody>\n",
       "</table>\n",
       "</div>"
      ],
      "text/plain": [
       "   id                                             name\n",
       "0   0  469-210 ЕРМАК Клей универсальный, 15мл, блистер\n",
       "1   1                  Торт СЛАДУШКА Зимняя вишня 700г\n",
       "2   2             Смеситель \"CALORIE\" 1023 А06 д/кухни\n",
       "3   3                                   Лимон 50гр БАР\n",
       "4   4            Коньяк САРАДЖИШВИЛИ 5 лет 0,5л Грузия"
      ]
     },
     "execution_count": 8,
     "metadata": {},
     "output_type": "execute_result"
    }
   ],
   "source": [
    "df_test.head()"
   ]
  },
  {
   "cell_type": "code",
   "execution_count": 9,
   "id": "46036313",
   "metadata": {},
   "outputs": [
    {
     "name": "stdout",
     "output_type": "stream",
     "text": [
      "<class 'pandas.core.frame.DataFrame'>\n",
      "RangeIndex: 25000 entries, 0 to 24999\n",
      "Data columns (total 4 columns):\n",
      " #   Column  Non-Null Count  Dtype \n",
      "---  ------  --------------  ----- \n",
      " 0   id      25000 non-null  int64 \n",
      " 1   name    25000 non-null  object\n",
      " 2   good    24181 non-null  object\n",
      " 3   brand   16495 non-null  object\n",
      "dtypes: int64(1), object(3)\n",
      "memory usage: 781.4+ KB\n"
     ]
    }
   ],
   "source": [
    "df_sup.info()"
   ]
  },
  {
   "cell_type": "code",
   "execution_count": 10,
   "id": "4f6dfb7c",
   "metadata": {},
   "outputs": [
    {
     "data": {
      "text/plain": [
       "id          0\n",
       "name        0\n",
       "good      819\n",
       "brand    8505\n",
       "dtype: int64"
      ]
     },
     "execution_count": 10,
     "metadata": {},
     "output_type": "execute_result"
    }
   ],
   "source": [
    "df_sup.isna().sum()"
   ]
  },
  {
   "cell_type": "code",
   "execution_count": 11,
   "id": "df87c674",
   "metadata": {},
   "outputs": [
    {
     "name": "stdout",
     "output_type": "stream",
     "text": [
      "Доля пропусков в good: 3.276%\n",
      "Доля пропусков в brand: 34.02%\n"
     ]
    }
   ],
   "source": [
    "print(f\"Доля пропусков в good: {round(df_sup['good'].isna().sum()/df_sup.shape[0]*100, 3)}%\")\n",
    "print(f\"Доля пропусков в brand: {round(df_sup['brand'].isna().sum()/df_sup.shape[0]*100, 3)}%\")"
   ]
  },
  {
   "cell_type": "code",
   "execution_count": 12,
   "id": "f26f033b",
   "metadata": {},
   "outputs": [
    {
     "data": {
      "text/plain": [
       "id       0\n",
       "name     0\n",
       "good     0\n",
       "brand    0\n",
       "dtype: int64"
      ]
     },
     "execution_count": 12,
     "metadata": {},
     "output_type": "execute_result"
    }
   ],
   "source": [
    "# заполняет пропуски\n",
    "for i in df_sup.columns:\n",
    "    if i == 'good':\n",
    "        df_sup['good'].fillna('None', inplace=True)\n",
    "    elif i == 'brand':\n",
    "        df_sup['brand'].fillna('None', inplace=True)\n",
    "        \n",
    "df_sup.isna().sum()   "
   ]
  },
  {
   "cell_type": "code",
   "execution_count": 13,
   "id": "48b4f8f9",
   "metadata": {},
   "outputs": [
    {
     "data": {
      "text/html": [
       "<div>\n",
       "<style scoped>\n",
       "    .dataframe tbody tr th:only-of-type {\n",
       "        vertical-align: middle;\n",
       "    }\n",
       "\n",
       "    .dataframe tbody tr th {\n",
       "        vertical-align: top;\n",
       "    }\n",
       "\n",
       "    .dataframe thead th {\n",
       "        text-align: right;\n",
       "    }\n",
       "</style>\n",
       "<table border=\"1\" class=\"dataframe\">\n",
       "  <thead>\n",
       "    <tr style=\"text-align: right;\">\n",
       "      <th></th>\n",
       "      <th>name</th>\n",
       "      <th>good</th>\n",
       "      <th>brand</th>\n",
       "    </tr>\n",
       "  </thead>\n",
       "  <tbody>\n",
       "    <tr>\n",
       "      <th>count</th>\n",
       "      <td>25000</td>\n",
       "      <td>25000</td>\n",
       "      <td>25000</td>\n",
       "    </tr>\n",
       "    <tr>\n",
       "      <th>unique</th>\n",
       "      <td>24994</td>\n",
       "      <td>2820</td>\n",
       "      <td>6976</td>\n",
       "    </tr>\n",
       "    <tr>\n",
       "      <th>top</th>\n",
       "      <td>Корм д/кошек Friskies кролик-ово</td>\n",
       "      <td>None</td>\n",
       "      <td>None</td>\n",
       "    </tr>\n",
       "    <tr>\n",
       "      <th>freq</th>\n",
       "      <td>2</td>\n",
       "      <td>819</td>\n",
       "      <td>8505</td>\n",
       "    </tr>\n",
       "  </tbody>\n",
       "</table>\n",
       "</div>"
      ],
      "text/plain": [
       "                                    name   good  brand\n",
       "count                              25000  25000  25000\n",
       "unique                             24994   2820   6976\n",
       "top     Корм д/кошек Friskies кролик-ово   None   None\n",
       "freq                                   2    819   8505"
      ]
     },
     "execution_count": 13,
     "metadata": {},
     "output_type": "execute_result"
    }
   ],
   "source": [
    "df_sup.describe(include='object')"
   ]
  },
  {
   "cell_type": "markdown",
   "id": "30d4297b",
   "metadata": {},
   "source": [
    "# Modeling"
   ]
  },
  {
   "cell_type": "code",
   "execution_count": 15,
   "id": "0732e86c",
   "metadata": {},
   "outputs": [],
   "source": [
    "X1 = df_sup.drop(['good', 'id'], axis=1)\n",
    "y1 = df_sup['good']\n",
    "X2 = df_sup.drop(['brand', 'id'], axis=1)\n",
    "y2 = df_sup['brand']\n",
    "\n",
    "X1_train, X1_test, y1_train, y1_test = train_test_split(X1,\n",
    "                                                        y1,\n",
    "                                                        test_size=0.2,\n",
    "                                                        shuffle=True,\n",
    "                                                        random_state=RAND)\n",
    "\n",
    "X2_train, X2_test, y2_train, y2_test = train_test_split(X2,\n",
    "                                                        y2,\n",
    "                                                        test_size=0.2,\n",
    "                                                        shuffle=True,\n",
    "                                                        random_state=RAND)\n",
    "\n",
    "eval_set1 = [(X1_test, y1_test)]\n",
    "eval_set2 = [(X2_test, y2_test)]"
   ]
  },
  {
   "cell_type": "code",
   "execution_count": null,
   "id": "c5eadb52",
   "metadata": {},
   "outputs": [],
   "source": [
    "%%time\n",
    "clf1 = CatBoostClassifier(random_state=RAND, eval_metric=\"AUC\")\n",
    "\n",
    "clf1.fit(X1_train,\n",
    "         y1_train,\n",
    "         text_features=['name', 'brand'],\n",
    "         verbose=False)"
   ]
  }
 ],
 "metadata": {
  "kernelspec": {
   "display_name": "Python 3 (ipykernel)",
   "language": "python",
   "name": "python3"
  },
  "language_info": {
   "codemirror_mode": {
    "name": "ipython",
    "version": 3
   },
   "file_extension": ".py",
   "mimetype": "text/x-python",
   "name": "python",
   "nbconvert_exporter": "python",
   "pygments_lexer": "ipython3",
   "version": "3.9.12"
  },
  "toc": {
   "base_numbering": 1,
   "nav_menu": {},
   "number_sections": true,
   "sideBar": true,
   "skip_h1_title": false,
   "title_cell": "Table of Contents",
   "title_sidebar": "Contents",
   "toc_cell": false,
   "toc_position": {},
   "toc_section_display": true,
   "toc_window_display": false
  }
 },
 "nbformat": 4,
 "nbformat_minor": 5
}
